{
 "cells": [
  {
   "cell_type": "markdown",
   "id": "c59b64dc",
   "metadata": {},
   "source": [
    "# 02 — Target Data Preprocessing\n",
    "\n",
    "This notebook demonstrates how I constructed the **Target Index** for each state from 2015 to 2025 by merging\n",
    "County Health Rankings (CHR) target metrics with FBI Hate Crime data."
   ]
  },
  {
   "cell_type": "code",
   "execution_count": null,
   "id": "49e74e65",
   "metadata": {},
   "outputs": [],
   "source": [
    "\"\"\"import pandas as pd, numpy as np, os, json\n",
    "from pathlib import Path\n",
    "from sklearn.preprocessing import MinMaxScaler\n",
    "import matplotlib.pyplot as plt\n",
    "\n",
    "DATA_DIR = \"../data\"\n",
    "YEARS = range(2015, 2026)\n",
    "\n",
    "# --- load annual CHR files and stack ---\n",
    "frames = []\n",
    "for y in YEARS:\n",
    "    f = f\"{DATA_DIR}/analytic_data{y}.csv\"\n",
    "    if os.path.exists(f):\n",
    "        df_y = pd.read_csv(f)\n",
    "        df_y[\"year\"] = y\n",
    "        frames.append(df_y)\n",
    "chr_all = pd.concat(frames, ignore_index=True)\n",
    "\n",
    "# --- hate-crime file ---\n",
    "hate = pd.read_csv(f\"{DATA_DIR}/hate_crime.csv\")\n",
    "hate.head()\n",
    "\n",
    "\"\"\""
   ]
  },
  {
   "cell_type": "code",
   "execution_count": null,
   "id": "3baa09bc",
   "metadata": {},
   "outputs": [],
   "source": [
    "\"\"\"# --- Normalize target variables ---\n",
    "target_cols = [\n",
    "    # Health outcomes\n",
    "    \"v001_rawvalue\",   # Premature death \n",
    "    \"v127_rawvalue\",   # Premature age-adjusted mortality \n",
    "    \"v128_rawvalue\",   # Child mortality \n",
    "    \"v129_rawvalue\",   # Infant mortality \n",
    "    \"v135_rawvalue\",   # Injury deaths \n",
    "    \"v161_rawvalue\",   # Suicides \n",
    "    \"v015_rawvalue\",   # Homicides \n",
    "    \"v039_rawvalue\",   # Motor vehicle crash deaths \n",
    "    \"v148_rawvalue\",   # Firearm fatalities \n",
    "    \n",
    "    # Environmental / infrastructure factors\n",
    "    \"v125_rawvalue\",   # Air pollution (PM2.5) \n",
    "    \"v124_rawvalue\",   # Drinking water violations \n",
    "    \"v179_rawvalue\",   # Access to parks \n",
    "    \"v182_rawvalue\",   # Adverse climate events \n",
    "    \"v166_rawvalue\",   # Broadband access \n",
    "    \"v181_rawvalue\",   # Library access \n",
    "    \"v156_rawvalue\",   # Traffic volume \n",
    "    \n",
    "    # Behavioral / social outcomes\n",
    "    \"v134_rawvalue\",   # Alcohol-impaired driving deaths \n",
    "    \"v139_rawvalue\",   # Food insecurity \n",
    "    \"v083_rawvalue\",   # Limited access to healthy foods \n",
    "    \"v133_rawvalue\",   # Food environment index \n",
    "    \"v155_rawvalue\"    # Flu vaccination \n",
    "]\n",
    "\n",
    "scaler = MinMaxScaler()\n",
    "# Aggregate to state level \n",
    "chr_state = chr_all.groupby(\"state\", as_index=False).mean(numeric_only=True)\n",
    "\n",
    "# Normalize selected columns\n",
    "for col in target_cols:\n",
    "    if col in chr_state:\n",
    "        chr_state[f\"{col}_norm\"] = scaler.fit_transform(chr_state[[col]])\n",
    "\n",
    "\n",
    "# --- Normalize hate crime then merge ---\n",
    "hate_state = hate.groupby(\"state_abbr\", as_index=False)[\"incident_id\"].count()\n",
    "hate_state[\"hate_crime_norm\"] = scaler.fit_transform(hate_state[[\"incident_id\"]])\n",
    "hate_state = hate_state.rename(columns={\"state_abbr\": \"state\"})\n",
    "merged = chr_state.merge(hate_state[[\"state\",\"hate_crime_norm\"]], left_on=\"state\", right_on=\"state\", how=\"left\")\n",
    "\n",
    "# Example output\n",
    "merged[[\"state\"] + [f\"{col}_norm\" for col in target_cols] + [\"hate_crime_norm\"]].head()\n",
    "\n",
    "\"\"\""
   ]
  },
  {
   "cell_type": "code",
   "execution_count": null,
   "id": "886b2789",
   "metadata": {},
   "outputs": [],
   "source": [
    "\"\"\"# --- Compute weighted composite score ---\n",
    "total = 22 # total weights (21 + 1 for hate crime)\n",
    "merged[\"target_index\"] = 0\n",
    "\n",
    "for col in target_cols:\n",
    "    if f\"{col}_norm\" in merged:\n",
    "        merged[\"target_index\"] += merged[f\"{col}_norm\"]*(1/total)\n",
    "\n",
    "merged[\"target_index\"] += merged[\"hate_crime_norm\"]*(1/total)\n",
    "\n",
    "# Example output\n",
    "merged[[\"state\", \"target_index\"]].head()\"\"\""
   ]
  },
  {
   "cell_type": "code",
   "execution_count": null,
   "id": "ac2f9d56",
   "metadata": {},
   "outputs": [],
   "source": [
    "\"\"\"# --- Classify into quintiles ---\n",
    "merged[\"Percentile_Class\"] = pd.qcut(merged[\"target_index\"], q=5, labels=False) + 1\n",
    "merged[\"Percentile_Continuous\"] = merged[\"target_index\"]\n",
    "\n",
    "# Example output\n",
    "merged[[\"state\", \"target_index\", \"Percentile_Class\", \"Percentile_Continuous\"]].head()\"\"\""
   ]
  },
  {
   "cell_type": "code",
   "execution_count": null,
   "id": "72aaf156",
   "metadata": {},
   "outputs": [],
   "source": [
    "\"\"\"# --- Visualize target distribution ---\n",
    "plt.hist(merged[\"target_index\"], bins=10)\n",
    "plt.title(\"Distribution of Target Index (State-Level)\")\n",
    "plt.xlabel(\"Target Index\"); plt.ylabel(\"Frequency\")\n",
    "plt.show()\"\"\""
   ]
  },
  {
   "cell_type": "code",
   "execution_count": null,
   "id": "8ab8eea1",
   "metadata": {},
   "outputs": [],
   "source": [
    "\"\"\"#  Save Paths Example\n",
    "Path(\"../results/norm_targets\").mkdir(parents=True, exist_ok=True)\n",
    "merged.to_csv(\"../results/norm_targets/final_target_index_all_years.csv\", index=False)\n",
    "merged.to_json(\"../results/norm_targets/final_target_index_all_years.json\", orient=\"records\", indent=2)\n",
    "merged.head()\n",
    "\"\"\""
   ]
  },
  {
   "cell_type": "code",
   "execution_count": null,
   "id": "f800ea90",
   "metadata": {},
   "outputs": [],
   "source": [
    "# Process Target Data\n",
    "# Allow some time for script to run as it processes multiple years (10) of data\n",
    "# Takes at least 1 minute to complete\n",
    "\n",
    "!cd .. && python src/process_target_data.py"
   ]
  }
 ],
 "metadata": {
  "kernelspec": {
   "display_name": "venv",
   "language": "python",
   "name": "python3"
  },
  "language_info": {
   "codemirror_mode": {
    "name": "ipython",
    "version": 3
   },
   "file_extension": ".py",
   "mimetype": "text/x-python",
   "name": "python",
   "nbconvert_exporter": "python",
   "pygments_lexer": "ipython3",
   "version": "3.10.0"
  }
 },
 "nbformat": 4,
 "nbformat_minor": 5
}
