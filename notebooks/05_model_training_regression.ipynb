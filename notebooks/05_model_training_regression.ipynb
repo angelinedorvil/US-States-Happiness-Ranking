{
 "cells": [
  {
   "cell_type": "markdown",
   "id": "d8453b2f",
   "metadata": {},
   "source": [
    "# 05 — Regression Model Training\n",
    "\n",
    "This notebook trains the regression models mirroring the models used by Jannani et al. in the \"Machine learning for the analysis of quality of life using the World\n",
    "Happiness Index and Human Development Indicators\" paper.\n",
    "\n",
    "The following models were trained:\n",
    "- **Random forest**\n",
    "- **kNN**\n",
    "- **SVM**\n",
    "- **Decision tree**\n",
    "- "
   ]
  },
  {
   "cell_type": "markdown",
   "id": "b4326e38",
   "metadata": {},
   "source": [
    "# Load data\n",
    "\n",
    "df = pd.read_csv(\"../results/norm_predictors/final_predictor_index_all_years.csv\").merge(\n",
    "    pd.read_csv(\"../results/norm_targets/final_target_index_all_years.csv\")[[\"State\",\"target_index\"]],\n",
    "    on=\"State\", how=\"inner\"\n",
    ")\n",
    "features = [c for c in df.columns if c.endswith(\"_norm\")]\n",
    "X, y = df[features], df[\"target_index\"]"
   ]
  },
  {
   "cell_type": "markdown",
   "id": "92772d50",
   "metadata": {},
   "source": [
    "# Split data\n",
    "\n",
    "X_train, X_test, y_train, y_test = train_test_split(\n",
    "    X, y, test_size=0.3, random_state=RANDOM_STATE\n",
    ")\n",
    "imputer = SimpleImputer(strategy=\"mean\")\n",
    "X_train = imputer.fit_transform(X_train)\n",
    "X_test  = imputer.transform(X_test)\n"
   ]
  },
  {
   "cell_type": "markdown",
   "id": "3a4a8038",
   "metadata": {},
   "source": [
    "# Train models example\n",
    "\n",
    "models = {\n",
    "    \"RandomForest_regression\": model_random_forest_regress,\n",
    "    \"DecisionTree_regression\": model_decision_tree_regress,\n",
    "    \"kNN_regression\": model_knn_regress,\n",
    "    \"SVM_regression\": model_svm_regress\n",
    "}\n",
    "trained = {}\n",
    "for name, module in models.items():\n",
    "    trained[name] = module.train_model(X_train, y_train, RESULTS_DIR)\n"
   ]
  },
  {
   "cell_type": "markdown",
   "id": "c5d66f38",
   "metadata": {},
   "source": [
    "# Evaluate models\n",
    "\n",
    "results = {}\n",
    "for name, model in trained.items():\n",
    "    print(f\"Evaluating {name}...\")\n",
    "    results[name] = evaluate_regression(model, X_test, y_test, name, RESULTS_DIR)\n",
    "pd.DataFrame(results).T"
   ]
  },
  {
   "cell_type": "code",
   "execution_count": 23,
   "id": "2466b8c6",
   "metadata": {},
   "outputs": [
    {
     "name": "stderr",
     "output_type": "stream",
     "text": [
      "c:\\Users\\angel\\US-States-Happiness-Ranking\\venv\\lib\\site-packages\\sklearn\\impute\\_base.py:653: UserWarning: Skipping features without any observed values: ['v170_rawvalue_norm']. At least one non-missing value is needed for imputation with strategy='mean'.\n",
      "  warnings.warn(\n",
      "c:\\Users\\angel\\US-States-Happiness-Ranking\\venv\\lib\\site-packages\\sklearn\\impute\\_base.py:653: UserWarning: Skipping features without any observed values: ['v170_rawvalue_norm']. At least one non-missing value is needed for imputation with strategy='mean'.\n",
      "  warnings.warn(\n",
      "c:\\Users\\angel\\US-States-Happiness-Ranking\\venv\\lib\\site-packages\\joblib\\externals\\loky\\backend\\context.py:131: UserWarning: Could not find the number of physical cores for the following reason:\n",
      "[WinError 1455] The paging file is too small for this operation to complete\n",
      "Returning the number of logical cores instead. You can silence this warning by setting LOKY_MAX_CPU_COUNT to the number of cores you want to use.\n",
      "  warnings.warn(\n",
      "  File \"c:\\Users\\angel\\US-States-Happiness-Ranking\\venv\\lib\\site-packages\\joblib\\externals\\loky\\backend\\context.py\", line 247, in _count_physical_cores\n",
      "    cpu_count_physical = _count_physical_cores_win32()\n",
      "  File \"c:\\Users\\angel\\US-States-Happiness-Ranking\\venv\\lib\\site-packages\\joblib\\externals\\loky\\backend\\context.py\", line 299, in _count_physical_cores_win32\n",
      "    cpu_info = subprocess.run(\n",
      "  File \"C:\\Users\\angel\\AppData\\Local\\Programs\\Python\\Python310\\lib\\subprocess.py\", line 501, in run\n",
      "    with Popen(*popenargs, **kwargs) as process:\n",
      "  File \"C:\\Users\\angel\\AppData\\Local\\Programs\\Python\\Python310\\lib\\subprocess.py\", line 966, in __init__\n",
      "    self._execute_child(args, executable, preexec_fn, close_fds,\n",
      "  File \"C:\\Users\\angel\\AppData\\Local\\Programs\\Python\\Python310\\lib\\subprocess.py\", line 1435, in _execute_child\n",
      "    hp, ht, pid, tid = _winapi.CreateProcess(executable, args,\n"
     ]
    },
    {
     "name": "stdout",
     "output_type": "stream",
     "text": [
      "Evaluation finished for RandomForest_regression (Regression). Results saved to results\\models\n",
      "Report finished for RandomForest_regression (Regression).\n",
      "Evaluation finished for kNN_regression (Regression). Results saved to results\\models\n",
      "Report finished for kNN_regression (Regression).\n",
      "Evaluation finished for DecisionTree_regression (Regression). Results saved to results\\models\n",
      "Report finished for DecisionTree_regression (Regression).\n",
      "Evaluation finished for SVM_regression (Regression). Results saved to results\\models\n",
      "Report finished for SVM_regression (Regression).\n"
     ]
    }
   ],
   "source": [
    "# Train models\n",
    "# Takes about 2-3 minutes to complete\n",
    "\n",
    "!cd .. && python src/train_all_models.py"
   ]
  }
 ],
 "metadata": {
  "kernelspec": {
   "display_name": "venv",
   "language": "python",
   "name": "python3"
  },
  "language_info": {
   "codemirror_mode": {
    "name": "ipython",
    "version": 3
   },
   "file_extension": ".py",
   "mimetype": "text/x-python",
   "name": "python",
   "nbconvert_exporter": "python",
   "pygments_lexer": "ipython3",
   "version": "3.10.0"
  }
 },
 "nbformat": 4,
 "nbformat_minor": 5
}
