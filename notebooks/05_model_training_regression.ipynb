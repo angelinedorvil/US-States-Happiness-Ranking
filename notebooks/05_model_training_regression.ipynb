{
 "cells": [
  {
   "cell_type": "markdown",
   "id": "d8453b2f",
   "metadata": {},
   "source": [
    "# 05 — Regression Model Training\n",
    "\n",
    "This notebook trains the regression models mirroring the models used by Jannani et al. in the \"Machine learning for the analysis of quality of life using the World\n",
    "Happiness Index and Human Development Indicators\" paper.\n",
    "\n",
    "The following models were trained:\n",
    "- **Random forest**\n",
    "- **kNN**\n",
    "- **SVM**\n",
    "- **Decision tree**\n",
    "- "
   ]
  },
  {
   "cell_type": "code",
   "execution_count": null,
   "id": "d3e8b0ab",
   "metadata": {
    "vscode": {
     "languageId": "plaintext"
    }
   },
   "outputs": [],
   "source": []
  }
 ],
 "metadata": {
  "language_info": {
   "name": "python"
  }
 },
 "nbformat": 4,
 "nbformat_minor": 5
}
